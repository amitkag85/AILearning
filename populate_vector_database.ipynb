{
  "nbformat": 4,
  "nbformat_minor": 0,
  "metadata": {
    "colab": {
      "provenance": [],
      "include_colab_link": true
    },
    "kernelspec": {
      "name": "python3",
      "display_name": "Python 3"
    },
    "language_info": {
      "name": "python"
    }
  },
  "cells": [
    {
      "cell_type": "markdown",
      "metadata": {
        "id": "view-in-github",
        "colab_type": "text"
      },
      "source": [
        "<a href=\"https://colab.research.google.com/github/amitkag85/AILearning/blob/main/populate_vector_database.ipynb\" target=\"_parent\"><img src=\"https://colab.research.google.com/assets/colab-badge.svg\" alt=\"Open In Colab\"/></a>"
      ]
    },
    {
      "cell_type": "code",
      "source": [
        "%pip install openai ipywidgets pandas SQLAlchemy nltk"
      ],
      "outputs": [],
      "execution_count": null,
      "metadata": {
        "jupyter": {
          "source_hidden": false,
          "outputs_hidden": false
        },
        "nteract": {
          "transient": {
            "deleting": false
          }
        },
        "id": "YVatwalL1Lw3"
      }
    },
    {
      "cell_type": "markdown",
      "source": [
        "Imports"
      ],
      "metadata": {
        "id": "QU4pCKMUotYX"
      }
    },
    {
      "cell_type": "code",
      "source": [
        "import json\n",
        "import ipywidgets as widgets\n",
        "from IPython.display import display\n",
        "from openai import AzureOpenAI\n",
        "import psycopg2\n",
        "import nltk\n",
        "from tqdm import tqdm"
      ],
      "metadata": {
        "id": "hNSo1bQJbre0"
      },
      "execution_count": null,
      "outputs": []
    },
    {
      "cell_type": "markdown",
      "source": [
        "Inputs for all secrets."
      ],
      "metadata": {
        "id": "iVu7Ho3vou60"
      }
    },
    {
      "cell_type": "code",
      "source": [
        "openai_api_url = widgets.Text(\n",
        "    value='',\n",
        "    placeholder='Enter OpenAI Embedding API URL',\n",
        "    description='Emb URL:',\n",
        "    disabled=False\n",
        ")\n",
        "\n",
        "display(openai_api_url)\n",
        "\n",
        "openai_api_key = widgets.Password(\n",
        "    value='',\n",
        "    placeholder='Enter OpenAI Embedding API Key',\n",
        "    description='Emb API Key:',\n",
        "    disabled=False\n",
        ")\n",
        "\n",
        "display(openai_api_key)\n",
        "\n",
        "db_host = widgets.Text(\n",
        "    value='',\n",
        "    placeholder='Enter Host Name',\n",
        "    description='Host:',\n",
        "    disabled=False\n",
        ")\n",
        "\n",
        "display(db_host)\n",
        "\n",
        "db_name = widgets.Text(\n",
        "    value='',\n",
        "    placeholder='Enter Name',\n",
        "    description='Database:',\n",
        "    disabled=False\n",
        ")\n",
        "\n",
        "display(db_name)\n",
        "\n",
        "db_admin = widgets.Text(\n",
        "    value='',\n",
        "    placeholder='Enter Admin',\n",
        "    description='Admin:',\n",
        "    disabled=False\n",
        ")\n",
        "\n",
        "display(db_admin)\n",
        "\n",
        "db_password = widgets.Password(\n",
        "    value='',\n",
        "    placeholder='Enter Database Password',\n",
        "    description='Password:',\n",
        "    disabled=False\n",
        ")\n",
        "\n",
        "display(db_password)"
      ],
      "outputs": [],
      "execution_count": null,
      "metadata": {
        "jupyter": {
          "source_hidden": false,
          "outputs_hidden": false
        },
        "nteract": {
          "transient": {
            "deleting": false
          }
        },
        "gather": {
          "logged": 1727540882509
        },
        "id": "qownsMvl1Lw4"
      }
    },
    {
      "cell_type": "markdown",
      "source": [
        "Wrapper to make database connections."
      ],
      "metadata": {
        "id": "t4cjOgCEo12C"
      }
    },
    {
      "cell_type": "code",
      "source": [
        "def connection():\n",
        "    return psycopg2.connect(\n",
        "        host=db_host.value,\n",
        "        database=db_name.value,\n",
        "        user=db_admin.value,\n",
        "        password=db_password.value\n",
        "    )"
      ],
      "metadata": {
        "id": "h9HHrL_wh_Dx"
      },
      "execution_count": null,
      "outputs": []
    },
    {
      "cell_type": "markdown",
      "source": [
        "Wrapper for calling the OpenAI embedding model."
      ],
      "metadata": {
        "id": "ITRwKnwmo5jz"
      }
    },
    {
      "cell_type": "code",
      "source": [
        "# create the client object with the required values\n",
        "client = AzureOpenAI(\n",
        "    api_key=openai_api_key.value,\n",
        "    api_version=\"2024-02-01\",\n",
        "    azure_endpoint=openai_api_url.value\n",
        ")\n",
        "\n",
        "# model name from deployment\n",
        "model_name = \"text-embedding-3-small\"\n",
        "\n",
        "def embed(text, dimensions=None):\n",
        "    response = client.embeddings.create(\n",
        "        input=text,\n",
        "        model=model_name,\n",
        "        dimensions=dimensions\n",
        "    )\n",
        "\n",
        "    embedding = response.data[0].embedding\n",
        "    return embedding"
      ],
      "metadata": {
        "id": "mtOPnv_rc42P"
      },
      "execution_count": null,
      "outputs": []
    },
    {
      "cell_type": "markdown",
      "source": [
        "For sentence splitting."
      ],
      "metadata": {
        "id": "w4Racn0xo9uL"
      }
    },
    {
      "cell_type": "code",
      "source": [
        "nltk.download('punkt')\n",
        "sent_detector = nltk.data.load('tokenizers/punkt/english.pickle')"
      ],
      "metadata": {
        "id": "8s-0E7USAj0R"
      },
      "execution_count": null,
      "outputs": []
    },
    {
      "cell_type": "markdown",
      "source": [
        "Mount Google Drive to read file."
      ],
      "metadata": {
        "id": "LuP17PUlpB4p"
      }
    },
    {
      "cell_type": "code",
      "source": [
        "from google.colab import drive\n",
        "drive.mount('/content/drive')"
      ],
      "metadata": {
        "id": "EepCxvHAo0NY"
      },
      "execution_count": null,
      "outputs": []
    },
    {
      "cell_type": "markdown",
      "source": [
        "Path to data on Google Drive. Download file from [here](https://drive.google.com/file/d/1m8Z9lPGYmca61Z8m7q0Dp3o8lVuTUscr/view?usp=sharing), save it to your Google Drive, and copy the path here."
      ],
      "metadata": {
        "id": "yNfwZgRwpFEN"
      }
    },
    {
      "cell_type": "code",
      "source": [
        "TRANSCRIPT_PATH = '/content/drive/MyDrive/Pluralsight/Using ChatGPT in Python for NLP Applications in Azure/KPMG 10 1-10 24/SSTK_transcripts.json'  #@param {type:\"string\"}"
      ],
      "metadata": {
        "id": "B1HMNOmfQbY_"
      },
      "execution_count": null,
      "outputs": []
    },
    {
      "cell_type": "markdown",
      "source": [
        "Load data file."
      ],
      "metadata": {
        "id": "rBvZz7AVpIX6"
      }
    },
    {
      "cell_type": "code",
      "source": [
        "with open(TRANSCRIPT_PATH, 'r') as f:\n",
        "  data = json.load(f)\n",
        "\n",
        "print(data)"
      ],
      "metadata": {
        "id": "LkBNPMos6q5c"
      },
      "execution_count": null,
      "outputs": []
    },
    {
      "cell_type": "markdown",
      "source": [
        "Print a list of all quarters in the data."
      ],
      "metadata": {
        "id": "EHsaadGCpakS"
      }
    },
    {
      "cell_type": "code",
      "source": [
        "quarters = sorted(list(data.keys()))\n",
        "print(quarters)"
      ],
      "metadata": {
        "id": "Y-q04BBJ9TmA"
      },
      "execution_count": null,
      "outputs": []
    },
    {
      "cell_type": "markdown",
      "source": [
        "Helper function for adding records for each sentence in a text block."
      ],
      "metadata": {
        "id": "u6KmWKkKpgqL"
      }
    },
    {
      "cell_type": "code",
      "source": [
        "def make_record(ticker, quarter_id, quarter, block_id, speaker, text):\n",
        "  out = []\n",
        "  for sentence_id, sentence in enumerate(sent_detector.tokenize(text)):\n",
        "    out.append({'ticker': ticker,\n",
        "                'quarter_id': quarter_id,\n",
        "                'quarter': quarter,\n",
        "                'block_id': block_id,\n",
        "                'speaker': speaker,\n",
        "                'sentence_id': sentence_id,\n",
        "                'sentence': sentence})\n",
        "  return out"
      ],
      "metadata": {
        "id": "OeqYju1y_463"
      },
      "execution_count": null,
      "outputs": []
    },
    {
      "cell_type": "markdown",
      "source": [
        "Process all records."
      ],
      "metadata": {
        "id": "s-b0IPxmpmjJ"
      }
    },
    {
      "cell_type": "code",
      "source": [
        "records = []\n",
        "for quarter_id, quarter in enumerate(quarters):\n",
        "  for block_id, block in enumerate(data[quarter]['transcript']):\n",
        "    records.extend(make_record('SSTK',\n",
        "                               quarter_id,\n",
        "                               quarter,\n",
        "                               block_id,\n",
        "                               block['speaker'],\n",
        "                               block['text']))\n",
        "\n",
        "len(records)"
      ],
      "metadata": {
        "id": "w1OlNsgD9zcS"
      },
      "execution_count": null,
      "outputs": []
    },
    {
      "cell_type": "markdown",
      "source": [
        "Define the dimension of the embeddings (we will use less than the default)."
      ],
      "metadata": {
        "id": "WmFFyVl6pqfj"
      }
    },
    {
      "cell_type": "code",
      "source": [
        "EMBEDDING_DIM = 768"
      ],
      "metadata": {
        "id": "OrX0iir8gvJV"
      },
      "execution_count": null,
      "outputs": []
    },
    {
      "cell_type": "markdown",
      "source": [
        "Process all sentences with OpenAI (this takes a while)."
      ],
      "metadata": {
        "id": "uyZN6aaapxtz"
      }
    },
    {
      "cell_type": "code",
      "source": [
        "for record in tqdm(records):\n",
        "  record['embedding'] = embed(record['sentence'], EMBEDDING_DIM)"
      ],
      "metadata": {
        "id": "GqmfPyptgKXm"
      },
      "execution_count": null,
      "outputs": []
    },
    {
      "cell_type": "markdown",
      "source": [
        "If you have not yet created the `vector` extension, uncomment this block and run it."
      ],
      "metadata": {
        "id": "2VZTQymIp2Jc"
      }
    },
    {
      "cell_type": "code",
      "source": [
        "'''\n",
        "with connection() as conn:\n",
        "    cur = conn.cursor()\n",
        "    cur.execute(\"SELECT CREATE_EXTENSION('vector')\")\n",
        "    conn.commit()\n",
        "'''"
      ],
      "metadata": {
        "id": "hP6PtBGbiyUN"
      },
      "execution_count": null,
      "outputs": []
    },
    {
      "cell_type": "markdown",
      "source": [
        "Create the database table."
      ],
      "metadata": {
        "id": "JopdUU45p8-i"
      }
    },
    {
      "cell_type": "code",
      "source": [
        "with connection() as conn:\n",
        "    cur = conn.cursor()\n",
        "    cur.execute(\"\"\"CREATE TABLE IF NOT EXISTS transcripts (\n",
        "        id SERIAL PRIMARY KEY,\n",
        "        ticker TEXT,\n",
        "        quarter_id INTEGER,\n",
        "        quarter TEXT,\n",
        "        block_id INTEGER,\n",
        "        speaker TEXT,\n",
        "        sentence_id INTEGER,\n",
        "        sentence TEXT,\n",
        "        embedding vector({dim})\n",
        "    )\"\"\".format(dim=EMBEDDING_DIM))\n",
        "    conn.commit()"
      ],
      "metadata": {
        "id": "mLUwyi2ukuvj"
      },
      "execution_count": null,
      "outputs": []
    },
    {
      "cell_type": "markdown",
      "source": [
        "Insert all records into the database."
      ],
      "metadata": {
        "id": "uY_ZV-Djp_ik"
      }
    },
    {
      "cell_type": "code",
      "source": [
        "with connection() as conn:\n",
        "    cur = conn.cursor()\n",
        "    for data in tqdm(records):\n",
        "        cur.execute(\"\"\"INSERT INTO transcripts\n",
        "(\n",
        "    ticker,\n",
        "    quarter_id,\n",
        "    quarter,\n",
        "    block_id,\n",
        "    speaker,\n",
        "    sentence_id,\n",
        "    sentence,\n",
        "    embedding\n",
        ") VALUES (\n",
        "    %s,\n",
        "    %s,\n",
        "    %s,\n",
        "    %s,\n",
        "    %s,\n",
        "    %s,\n",
        "    %s,\n",
        "    %s\n",
        ")\"\"\", (data['ticker'],\n",
        "       data['quarter_id'],\n",
        "       data['quarter'],\n",
        "       data['block_id'],\n",
        "       data['speaker'],\n",
        "       data['sentence_id'],\n",
        "       data['sentence'],\n",
        "       data['embedding'])\n",
        "    )\n",
        "    conn.commit()"
      ],
      "metadata": {
        "id": "wRkKKlKWlJ3t"
      },
      "execution_count": null,
      "outputs": []
    },
    {
      "cell_type": "markdown",
      "source": [
        "Get a count of all inserted records as a sanity check."
      ],
      "metadata": {
        "id": "nWeyuEWcqDEj"
      }
    },
    {
      "cell_type": "code",
      "source": [
        "with connection() as conn:\n",
        "    cur = conn.cursor()\n",
        "    cur.execute(\"SELECT COUNT(*) FROM transcripts\")\n",
        "    count = cur.fetchone()[0]\n",
        "    print(count)\n"
      ],
      "metadata": {
        "id": "K3uuhL9GmiEC"
      },
      "execution_count": null,
      "outputs": []
    },
    {
      "cell_type": "markdown",
      "source": [
        "Print some values from the first 10 records."
      ],
      "metadata": {
        "id": "BTogT7mUqHjw"
      }
    },
    {
      "cell_type": "code",
      "source": [
        "with connection() as conn:\n",
        "    cur = conn.cursor()\n",
        "    cur.execute(\"\"\"SELECT\n",
        "    id, ticker, quarter, speaker, sentence\n",
        "FROM transcripts\n",
        "LIMIT 10\"\"\")\n",
        "    rows = cur.fetchall()\n",
        "\n",
        "for row in rows:\n",
        "    print(row)"
      ],
      "metadata": {
        "id": "Hv7yEC2FmnOb"
      },
      "execution_count": null,
      "outputs": []
    },
    {
      "cell_type": "code",
      "source": [
        "import pandas as pd\n",
        "from sqlalchemy import create_engine"
      ],
      "metadata": {
        "id": "73_7X-YSomhp"
      },
      "execution_count": null,
      "outputs": []
    },
    {
      "cell_type": "markdown",
      "source": [
        "Get some values for the first 10 records as a pandas dataframe."
      ],
      "metadata": {
        "id": "cQbVmcmCqMKY"
      }
    },
    {
      "cell_type": "code",
      "source": [
        "query = 'AI'\n",
        "query_vector = embed(query, EMBEDDING_DIM)\n",
        "\n",
        "engine = create_engine(f\"postgresql://{db_admin.value}:{db_password.value}@{db_host.value}:5432/{db_name.value}\")\n",
        "\n",
        "df = pd.read_sql(\"\"\"SELECT\n",
        "    id,\n",
        "    ticker,\n",
        "    quarter,\n",
        "    speaker,\n",
        "    sentence,\n",
        "    (1 - (embedding <=> '{emb}')) AS similarity\n",
        "FROM transcripts\n",
        "ORDER BY similarity DESC\n",
        "LIMIT 10\n",
        "\"\"\".format(emb=json.dumps(query_vector)), engine)\n",
        "\n",
        "df\n"
      ],
      "metadata": {
        "id": "ltBj4wtsnFqE"
      },
      "execution_count": null,
      "outputs": []
    }
  ]
}