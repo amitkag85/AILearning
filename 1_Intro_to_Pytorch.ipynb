{
  "nbformat": 4,
  "nbformat_minor": 0,
  "metadata": {
    "colab": {
      "provenance": [],
      "include_colab_link": true
    },
    "kernelspec": {
      "name": "python3",
      "display_name": "Python 3"
    },
    "language_info": {
      "name": "python"
    }
  },
  "cells": [
    {
      "cell_type": "markdown",
      "metadata": {
        "id": "view-in-github",
        "colab_type": "text"
      },
      "source": [
        "<a href=\"https://colab.research.google.com/github/amitkag85/AILearning/blob/master/1_Intro_to_Pytorch.ipynb\" target=\"_parent\"><img src=\"https://colab.research.google.com/assets/colab-badge.svg\" alt=\"Open In Colab\"/></a>"
      ]
    },
    {
      "cell_type": "markdown",
      "source": [
        "## Introduction\n",
        "This is meant to be a fast paced introduction to machine learning using Pytorch. The goal is to get familiar with the basic aspects of building a model and train it on a supervised learning task."
      ],
      "metadata": {
        "id": "rM-dddGFIpqN"
      }
    },
    {
      "cell_type": "code",
      "execution_count": null,
      "metadata": {
        "id": "fEBP4KOUiYe8"
      },
      "outputs": [],
      "source": [
        "import torch"
      ]
    },
    {
      "cell_type": "markdown",
      "source": [
        "## Tensors\n",
        "\n",
        "[Tensors](https://pytorch.org/docs/stable/tensors.html) are (multidimensional) arrays, and are the core data type used in deep learning."
      ],
      "metadata": {
        "id": "fvV-soUFifAv"
      }
    },
    {
      "cell_type": "code",
      "source": [
        "# create a new tensor out of existing data\n",
        "t = torch.tensor([1,3,3,7])\n",
        "print(t)\n",
        "# get the the dimensions of a tensor\n",
        "print(t.size())\n",
        "# initialize a tensor of all ones of a particular size\n",
        "t = torch.ones(2, 3, 4)\n",
        "print(t)\n",
        "# `torch.Size` can be unpacked\n",
        "depth, height, width = t.size()\n",
        "print('depth:', depth, 'height:', height, 'width:', width)\n",
        "# tensors can be addressed just like numpy arrays\n",
        "print(t[0].size())\n",
        "# random, normally distributed tensors of a given size are also easy\n",
        "t = torch.randn(2,3)\n",
        "print(t)"
      ],
      "metadata": {
        "id": "UjqmeHYYiySh",
        "colab": {
          "base_uri": "https://localhost:8080/"
        },
        "outputId": "aec5fddb-7738-443e-cfbd-626308670d59"
      },
      "execution_count": null,
      "outputs": [
        {
          "output_type": "stream",
          "name": "stdout",
          "text": [
            "tensor([1, 3, 3, 7])\n",
            "torch.Size([4])\n",
            "tensor([[[1., 1., 1., 1.],\n",
            "         [1., 1., 1., 1.],\n",
            "         [1., 1., 1., 1.]],\n",
            "\n",
            "        [[1., 1., 1., 1.],\n",
            "         [1., 1., 1., 1.],\n",
            "         [1., 1., 1., 1.]]])\n",
            "depth: 2 height: 3 width: 4\n",
            "torch.Size([3, 4])\n",
            "tensor([[-0.0757, -0.1169,  0.3915],\n",
            "        [ 1.6352, -0.6383,  0.8118]])\n"
          ]
        }
      ]
    },
    {
      "cell_type": "code",
      "source": [
        "x = torch.tensor([1, 2, 3])\n",
        "print(x)\n",
        "print(x*x)\n",
        "x = x.unsqueeze(dim=1)\n",
        "print(x.size())\n",
        "print(x)"
      ],
      "metadata": {
        "colab": {
          "base_uri": "https://localhost:8080/"
        },
        "id": "sda8LmD69AwB",
        "outputId": "e172163e-575f-4154-e2a1-97bf810139f9"
      },
      "execution_count": null,
      "outputs": [
        {
          "output_type": "stream",
          "name": "stdout",
          "text": [
            "tensor([1, 2, 3])\n",
            "tensor([1, 4, 9])\n",
            "torch.Size([3, 1])\n",
            "tensor([[1],\n",
            "        [2],\n",
            "        [3]])\n"
          ]
        }
      ]
    },
    {
      "cell_type": "markdown",
      "source": [
        "## Modules\n",
        "\n",
        "Torch uses [Modules](https://pytorch.org/docs/stable/generated/torch.nn.Module.html) as the brimary building block for models. A `Module` can represent a layer or an entire model (models can be used as layers within other models).\n",
        "\n",
        "[torch.nn](https://pytorch.org/docs/stable/nn.html) is the primary library defining the most comong building blocks for most neural networks."
      ],
      "metadata": {
        "id": "66SVp7_TlEpM"
      }
    },
    {
      "cell_type": "code",
      "source": [
        "# all basic layers/modules are defined in torch.nn\n",
        "import torch.nn as nn\n",
        "\n",
        "# a `Linear` layer (also called fully connected, or `Dense` in Keras)\n",
        "# is just y = Wx + b. `Linear` takes the input dimension, output dimensions\n",
        "# whether or not to include a bias term (default True)\n",
        "m = nn.Linear(2, 3)\n",
        "print(m)\n",
        "print('weight matrix:', m.weight.size())\n",
        "print('bias vector', m.bias.size())\n",
        "# you can create one without a bias as well\n",
        "m = nn.Linear(2, 3, bias=False)\n",
        "print(m)\n",
        "print('weight matrix:', m.weight.size())\n",
        "print('bias vector', m.bias)"
      ],
      "metadata": {
        "id": "92QW7Vn_lE6t",
        "colab": {
          "base_uri": "https://localhost:8080/"
        },
        "outputId": "9584dbbc-25ad-49d0-cb22-7780d378de31"
      },
      "execution_count": null,
      "outputs": [
        {
          "output_type": "stream",
          "name": "stdout",
          "text": [
            "Linear(in_features=2, out_features=3, bias=True)\n",
            "weight matrix: torch.Size([3, 2])\n",
            "bias vector torch.Size([3])\n",
            "Linear(in_features=2, out_features=3, bias=False)\n",
            "weight matrix: torch.Size([3, 2])\n",
            "bias vector None\n"
          ]
        }
      ]
    },
    {
      "cell_type": "code",
      "source": [
        "print(m)\n",
        "x = torch.randn(5, 2)\n",
        "print(x.size())\n",
        "y = m(x)\n",
        "print(y.size())"
      ],
      "metadata": {
        "colab": {
          "base_uri": "https://localhost:8080/"
        },
        "id": "YjngORTIOPxx",
        "outputId": "b542fdf7-515d-4100-ebdd-c8be65b696d6"
      },
      "execution_count": null,
      "outputs": [
        {
          "output_type": "stream",
          "name": "stdout",
          "text": [
            "Linear(in_features=2, out_features=3, bias=False)\n",
            "torch.Size([5, 2])\n",
            "torch.Size([5, 3])\n"
          ]
        }
      ]
    },
    {
      "cell_type": "code",
      "source": [
        "x = torch.tensor([[1, 2]])\n",
        "m = torch.arange(6).view(2, 3)\n",
        "print(x)\n",
        "print(x.size())\n",
        "print('')\n",
        "print(m.size())\n",
        "print(m)\n",
        "\n",
        "print('')\n",
        "# n x d @ d x m => n x m\n",
        "y = x @ m\n",
        "print(y.size())\n",
        "print(y)"
      ],
      "metadata": {
        "colab": {
          "base_uri": "https://localhost:8080/"
        },
        "id": "Dujg1I7gUABT",
        "outputId": "bd82c706-4f4d-4b5f-d151-1ac74fe9641e"
      },
      "execution_count": null,
      "outputs": [
        {
          "output_type": "stream",
          "name": "stdout",
          "text": [
            "tensor([[1, 2]])\n",
            "torch.Size([1, 2])\n",
            "\n",
            "torch.Size([2, 3])\n",
            "tensor([[0, 1, 2],\n",
            "        [3, 4, 5]])\n",
            "\n",
            "torch.Size([1, 3])\n",
            "tensor([[ 6,  9, 12]])\n"
          ]
        }
      ]
    },
    {
      "cell_type": "markdown",
      "source": [
        "## Simple Model: Multilayer Perceptron\n",
        "\n",
        "We'll define a simple multilayer perceptron ([MLP](https://en.wikipedia.org/wiki/Multilayer_perceptron) a.k.a. feedforward network) with one hidden layer. This will be a subclass of `torch.nn.Module`, which requires:\n",
        "* `__init__` with a call to `super().__init__()`\n",
        "* `forward()` which defines how to run the model given an input\n",
        "\n",
        "We will use the container [torch.nn.Sequential](https://pytorch.org/docs/stable/generated/torch.nn.Sequential.html#torch.nn.Sequential) to glue all of our layers into a single module that passes the output from the previous step as the input to the next. Note that you must ensure that the output dimensions of the previous layer match the input dimensions of the next.\n",
        "\n",
        "The main component which makes neural networks able to learn non-linear functions are the [activations](https://pytorch.org/docs/stable/nn.html#non-linear-activations-weighted-sum-nonlinearity) places between the various layers. Since this model is very small and simple, we will be using [torch.nn.Sigmoid](https://pytorch.org/docs/stable/generated/torch.nn.Sigmoid.html#torch.nn.Sigmoid), which produces an \"S curve\" that squashes all values to the range 0.0 - 1.0."
      ],
      "metadata": {
        "id": "wufDKTo7xrL9"
      }
    },
    {
      "cell_type": "code",
      "source": [
        "class MLP(nn.Module):\n",
        "  def __init__(self, input_dim, hidden_dim, output_dim):\n",
        "    super().__init__()\n",
        "    self.input_dim = input_dim\n",
        "    self.hidden_dim = hidden_dim\n",
        "    self.output_dim = output_dim\n",
        "\n",
        "    self.fc = nn.Sequential(\n",
        "        nn.Linear(self.input_dim, self.hidden_dim),\n",
        "        nn.LeakyReLU(),\n",
        "        nn.Linear(self.hidden_dim, self.output_dim),\n",
        "        nn.Sigmoid()\n",
        "    )\n",
        "\n",
        "  def forward(self, x):\n",
        "    # the `Sequential` can just be called on the input\n",
        "    return self.fc(x)"
      ],
      "metadata": {
        "id": "-fKJ3Gtgxrdt"
      },
      "execution_count": null,
      "outputs": []
    },
    {
      "cell_type": "code",
      "source": [
        "\"\"\"\n",
        "class MLP(nn.Module):\n",
        "  def __init__(self, input_dim, hidden_dim, output_dim):\n",
        "    super().__init__()\n",
        "    self.input_dim = input_dim\n",
        "    self.hidden_dim = hidden_dim\n",
        "    self.output_dim = output_dim\n",
        "\n",
        "    self.fc1 = nn.Linear(self.input_dim, self.hidden_dim),\n",
        "    self.relu = nn.LeakyReLU(),\n",
        "    self.fc2 = nn.Linear(self.hidden_dim, self.output_dim),\n",
        "    self.sigmoid = nn.Sigmoid()\n",
        "\n",
        "  def forward(self, x):\n",
        "    h = self.fc1(x)\n",
        "    h = self.relu(h)\n",
        "    h = self.fc2(h)\n",
        "    y = self.sigmoid(h)\n",
        "    return y\n",
        "\"\"\""
      ],
      "metadata": {
        "id": "zvCW4k2tj1Bh"
      },
      "execution_count": null,
      "outputs": []
    },
    {
      "cell_type": "code",
      "source": [
        "mlp = MLP(2, 3, 1)\n",
        "print(mlp)\n",
        "x = torch.randn(5, 2)\n",
        "print(x.size())\n",
        "y = mlp(x)\n",
        "print(y.size())"
      ],
      "metadata": {
        "colab": {
          "base_uri": "https://localhost:8080/"
        },
        "id": "DrUlvzWDT4vf",
        "outputId": "9d7f190a-aba4-4141-cc63-879f159520bc"
      },
      "execution_count": null,
      "outputs": [
        {
          "output_type": "stream",
          "name": "stdout",
          "text": [
            "MLP(\n",
            "  (fc): Sequential(\n",
            "    (0): Linear(in_features=2, out_features=3, bias=True)\n",
            "    (1): LeakyReLU(negative_slope=0.01)\n",
            "    (2): Linear(in_features=3, out_features=1, bias=True)\n",
            "    (3): Sigmoid()\n",
            "  )\n",
            ")\n",
            "torch.Size([5, 2])\n",
            "torch.Size([5, 1])\n"
          ]
        }
      ]
    },
    {
      "cell_type": "markdown",
      "source": [
        "## Device\n",
        "\n",
        "Torch supports multiple backends, most notibly `'cpu'` and `'cuda'` (with experimental support for Apple Metal as well). The main thing to remember is that all `Module`s and `Tensor`s neeed to be on the same device when running, or else you will get an error. Also note that all everything initially begins on CPU when created (with the exception of models that were saved while on GPU, but let's ignore that for now)."
      ],
      "metadata": {
        "id": "Df_tjsw9nJ7I"
      }
    },
    {
      "cell_type": "code",
      "source": [
        "# get the device we are using and save it for later. change the runtime\n",
        "# to GPU to see if print `cuda`\n",
        "device = 'cuda' if torch.cuda.is_available() else 'cpu'\n",
        "print(device)\n",
        "\n",
        "# create a tensor and send it to our device\n",
        "x = torch.randn(2,3, device=device)\n",
        "print(x)\n",
        "# you can also send things to a device after they are creates\n",
        "x = torch.randn(2, 3)\n",
        "print(x)\n",
        "x = x.to(device)\n",
        "print(x)\n",
        "\n",
        "# some operations, such as converting to a numpy array, require tensors\n",
        "# to be on the CPU specifically, so using `.cpu()` is helpful\n",
        "print(x.cpu().numpy())\n",
        "# there is also `.cuda()` but that asumesthat you actually have a GPU"
      ],
      "metadata": {
        "id": "a8XWWwmxnKEs",
        "colab": {
          "base_uri": "https://localhost:8080/"
        },
        "outputId": "4b72bec0-fc24-4577-8a79-8b84b5051134"
      },
      "execution_count": null,
      "outputs": [
        {
          "output_type": "stream",
          "name": "stdout",
          "text": [
            "cpu\n",
            "tensor([[ 0.2124,  0.1674,  0.1325],\n",
            "        [-1.5932, -1.6619,  0.9348]])\n",
            "tensor([[-2.5644,  1.0016,  1.0592],\n",
            "        [ 0.9328, -0.8526,  1.1647]])\n",
            "tensor([[-2.5644,  1.0016,  1.0592],\n",
            "        [ 0.9328, -0.8526,  1.1647]])\n",
            "[[-2.564385    1.0016286   1.059236  ]\n",
            " [ 0.93276423 -0.85258     1.1646824 ]]\n"
          ]
        }
      ]
    },
    {
      "cell_type": "markdown",
      "source": [
        "## Dataset\n",
        "\n",
        "The primary mechanisms for working with data live in [torch.utils.data](https://pytorch.org/docs/stable/data.html).\n",
        "\n",
        "Now we will make a model that solves [XOR](https://en.wikipedia.org/wiki/Exclusive_or). This will require creating:\n",
        "* a [map-style](https://pytorch.org/docs/stable/data.html#map-style-datasets) `Dataset` to hold our examples\n",
        "* a model to train\n",
        "* a training loop\n",
        "\n",
        "Although simple, XOR is useful as it requires a model that can handle non-linear relationships between inputs and outputs: it is not possible to draw a single straight line as a decision boundary."
      ],
      "metadata": {
        "id": "2iWUuzShp2a4"
      }
    },
    {
      "cell_type": "code",
      "source": [
        "'''\n",
        "a `Dataset` is an interface for defining data to train on. it requires defining\n",
        "* __init__\n",
        "* __len__ to return the number of training examples\n",
        "* __getitem__ to return an example at a specific index\n",
        "'''\n",
        "from torch.utils.data import Dataset\n",
        "\n",
        "class XorDataset(Dataset):\n",
        "  def __init__(self):\n",
        "    # example inputs\n",
        "    self.x = [\n",
        "        [0, 0],\n",
        "        [1, 0],\n",
        "        [0, 1],\n",
        "        [1, 1]\n",
        "    ]\n",
        "    # example outputs\n",
        "    self.y = [\n",
        "        0,\n",
        "        1,\n",
        "        1,\n",
        "        0\n",
        "    ]\n",
        "\n",
        "  def __len__(self):\n",
        "    # return the number of training examples\n",
        "    return len(self.x)\n",
        "\n",
        "  def __getitem__(self, idx):\n",
        "    # return the input/output for a given example (by index)\n",
        "    x = self.x[idx]\n",
        "    y = self.y[idx]\n",
        "    return {'x': torch.FloatTensor(x), 'y': torch.FloatTensor([y])}\n",
        "\n",
        "xor_dataset = XorDataset()\n",
        "print(len(xor_dataset))\n",
        "print(xor_dataset[2])"
      ],
      "metadata": {
        "id": "9TK2NUybp2nY",
        "colab": {
          "base_uri": "https://localhost:8080/"
        },
        "outputId": "284738f7-d968-4480-af6b-9e7e74bf56f0"
      },
      "execution_count": null,
      "outputs": [
        {
          "output_type": "stream",
          "name": "stdout",
          "text": [
            "4\n",
            "{'x': tensor([0., 1.]), 'y': tensor([0.])}\n"
          ]
        }
      ]
    },
    {
      "cell_type": "markdown",
      "source": [
        "## DataLoader and Batching\n",
        "\n",
        "The most common way to work with a `Dataset` is to use a [DataLoader](https://pytorch.org/docs/stable/data.html#torch.utils.data.DataLoader). This handles things like:\n",
        "* iterating through the `Dataset`\n",
        "* optionally randomizing the order of examples\n",
        "* batching examples together\n",
        "\n",
        "Batching (a.k.a. mini-batches) means loading multiple training examples in *parallel*. This is helpful, especially when using GPUs, for being able to do more computation in a single pass, speeding up traning for feedforward models. Additionally some objectives like contrastive learning specifically rely on batcfhing as part of the loss function. However recurrent models benefit less from batching as they take sequences as input, which often requires padding shorter examples since everything in the batch needs to be the same length."
      ],
      "metadata": {
        "id": "PCkwVhLqsNyU"
      }
    },
    {
      "cell_type": "code",
      "source": [
        "from torch.utils.data import DataLoader\n",
        "\n",
        "batch_size = 4\n",
        "\n",
        "dataloader = DataLoader(xor_dataset, batch_size=batch_size, shuffle=True, drop_last=True)\n",
        "\n",
        "for batch in dataloader:\n",
        "  x = batch['x']\n",
        "  y = batch['y']\n",
        "  print(x, 'x.size()', x.size())\n",
        "  print(y, 'y.size()', y.size())"
      ],
      "metadata": {
        "id": "U2GwzQWRsOiE",
        "colab": {
          "base_uri": "https://localhost:8080/"
        },
        "outputId": "198ef50d-1a72-4169-9fb6-283079be9643"
      },
      "execution_count": null,
      "outputs": [
        {
          "output_type": "stream",
          "name": "stdout",
          "text": [
            "tensor([[0., 0.],\n",
            "        [1., 1.],\n",
            "        [1., 0.],\n",
            "        [0., 1.]]) x.size() torch.Size([4, 2])\n",
            "tensor([[0.],\n",
            "        [1.],\n",
            "        [0.],\n",
            "        [0.]]) y.size() torch.Size([4, 1])\n"
          ]
        }
      ]
    },
    {
      "cell_type": "markdown",
      "source": [
        "## Training Setup\n",
        "\n",
        "For supervised learning, we need:\n",
        "* a model to train\n",
        "* a dataset\n",
        "* an [optimizer](https://pytorch.org/docs/stable/optim.html)\n",
        "* an objective ([loss function](https://pytorch.org/docs/stable/nn.html#loss-functions))\n",
        "\n",
        "We then loop over all of our training data multiple times (epochs) and track the loss so that we can see how the model is improving. Of course you can (and usually should) also track validation loss on your test data, but we will omit that here.\n",
        "\n",
        "Here we will be using the [Adam](https://pytorch.org/docs/stable/generated/torch.optim.Adam.html#torch.optim.Adam) optimizer and [mean squared error loss](https://pytorch.org/docs/stable/generated/torch.nn.MSELoss.html#torch.nn.MSELoss)."
      ],
      "metadata": {
        "id": "rZX3m03zvwp9"
      }
    },
    {
      "cell_type": "code",
      "source": [
        "from torch.optim import Adam\n",
        "from tqdm import trange  # gives us a nice progress bar\n",
        "\n",
        "epochs = 5000  # the number of times to iterate through the training data\n",
        "\n",
        "model = MLP(2, 2, 1)  # create an instance of our model\n",
        "model = model.to(device)  # send the model to the appropriate device\n",
        "print(model.train())  # set the model to train mode (default) and print it for good measure\n",
        "opt = Adam(model.parameters(), lr=0.003)  # initialize the optimizer with the model parameters\n",
        "loss_fn = nn.MSELoss()  # create an instance of our loss function\n",
        "losses = []  # create an empty list for tracking the loss every epoch\n",
        "\n",
        "for epoch in trange(epochs):  # loop for the number of epochs\n",
        "  for batch in dataloader:  # iterate through the dataset\n",
        "\n",
        "    # get the inputs and target outputs and send them to the device\n",
        "    x = batch['x'].to(device)\n",
        "    y = batch['y'].to(device)\n",
        "\n",
        "    # run the model and get its prediction\n",
        "    y_hat = model(x)\n",
        "\n",
        "    # calculate the loss\n",
        "    loss = loss_fn(y_hat, y)\n",
        "\n",
        "    # clear the previous gradient from the optimizer\n",
        "    opt.zero_grad()\n",
        "    # calculate the gradient based on the loss\n",
        "    loss.backward()\n",
        "    # update the model weights based on the gradient\n",
        "    opt.step()\n",
        "\n",
        "    '''\n",
        "    Store the loss in a list so that we can plot it later.\n",
        "    When doing so however, we need to call `.detach()` in\n",
        "    order to remove the gradient, `.cpu()` to make sure it\n",
        "    is on the CPU, and `.numpy()` to convert it into a numpy\n",
        "    value because matplotlib doesn't work directly on tensors.\n",
        "    '''\n",
        "    losses.append(loss.detach().cpu().numpy())"
      ],
      "metadata": {
        "id": "LV-3ISDbsjmO",
        "colab": {
          "base_uri": "https://localhost:8080/"
        },
        "outputId": "73f49961-d6c9-420c-ac86-6135f74ff10b"
      },
      "execution_count": null,
      "outputs": [
        {
          "output_type": "stream",
          "name": "stdout",
          "text": [
            "MLP(\n",
            "  (fc): Sequential(\n",
            "    (0): Linear(in_features=2, out_features=2, bias=True)\n",
            "    (1): LeakyReLU(negative_slope=0.01)\n",
            "    (2): Linear(in_features=2, out_features=1, bias=True)\n",
            "    (3): Sigmoid()\n",
            "  )\n",
            ")\n"
          ]
        },
        {
          "output_type": "stream",
          "name": "stderr",
          "text": [
            "100%|██████████| 5000/5000 [00:07<00:00, 660.41it/s]\n"
          ]
        }
      ]
    },
    {
      "cell_type": "code",
      "source": [
        "import matplotlib.pyplot as plt\n",
        "\n",
        "plt.plot(losses)\n",
        "plt.show()"
      ],
      "metadata": {
        "id": "plvMl6o6zMSe",
        "colab": {
          "base_uri": "https://localhost:8080/",
          "height": 430
        },
        "outputId": "b767c453-417e-4042-f6a8-dab47f0b77ef"
      },
      "execution_count": null,
      "outputs": [
        {
          "output_type": "display_data",
          "data": {
            "text/plain": [
              "<Figure size 640x480 with 1 Axes>"
            ],
            "image/png": "[encoded data removed]"
          },
          "metadata": {}
        }
      ]
    },
    {
      "cell_type": "markdown",
      "source": [
        "Since our training data is so small, we can iterate through all examples and compare the prediction to the target. For more complex datasets/tasks could use a test set to plot the validation loss, calculate a confusion matrix, etc."
      ],
      "metadata": {
        "id": "uWIj3DeKgbVg"
      }
    },
    {
      "cell_type": "code",
      "source": [
        "model = model.cpu()\n",
        "model.eval()\n",
        "\n",
        "with torch.no_grad():\n",
        "  for example in xor_dataset:\n",
        "    x = example['x']\n",
        "    y = example['y']\n",
        "    y_hat = model(x)\n",
        "    loss = loss_fn(y_hat, y)\n",
        "    print('x:', x, 'y:', y, 'y_hat:', y_hat, 'loss:', loss)"
      ],
      "metadata": {
        "id": "PnFPlJUBz4pe",
        "colab": {
          "base_uri": "https://localhost:8080/"
        },
        "outputId": "2634a809-2d06-406a-895d-bdae621273f0"
      },
      "execution_count": null,
      "outputs": [
        {
          "output_type": "stream",
          "name": "stdout",
          "text": [
            "x: tensor([0., 0.]) y: tensor([0.]) y_hat: tensor([0.0003]) loss: tensor(1.1594e-07)\n",
            "x: tensor([1., 0.]) y: tensor([0.]) y_hat: tensor([0.0069]) loss: tensor(4.7548e-05)\n",
            "x: tensor([0., 1.]) y: tensor([0.]) y_hat: tensor([0.0063]) loss: tensor(3.9417e-05)\n",
            "x: tensor([1., 1.]) y: tensor([1.]) y_hat: tensor([0.9934]) loss: tensor(4.3608e-05)\n"
          ]
        }
      ]
    },
    {
      "cell_type": "markdown",
      "source": [
        "## Bonus: Other Resources\n",
        "\n",
        "* [Andrej Karpathy](https://www.youtube.com/@AndrejKarpathy)'s Youtube Channel where he is currently building a minimal implementation of Pytorch from the ground up\n",
        "* [Yannic Kilcher](https://www.youtube.com/@YannicKilcher)'s Youtube channel where he has overviews of tons of papers, streams working on open source projects, and keeps up with current events in ML\n",
        "* [lucidrains](https://github.com/lucidrains) on github who implements absolutely everything"
      ],
      "metadata": {
        "id": "zv10mtUy20HY"
      }
    },
    {
      "cell_type": "code",
      "source": [
        "'''\n",
        "a `Dataset` is an interface for defining data to train on. it requires defining\n",
        "* __init__\n",
        "* __len__ to return the number of training examples\n",
        "* __getitem__ to return an example at a specific index\n",
        "'''\n",
        "from torch.utils.data import Dataset\n",
        "\n",
        "class LogicDataset(Dataset):\n",
        "  def __init__(self):\n",
        "    # example inputs\n",
        "    self.x = [\n",
        "        [0, 0],\n",
        "        [1, 0],\n",
        "        [0, 1],\n",
        "        [1, 1]\n",
        "    ]\n",
        "    # example outputs\n",
        "    # AND, OR, XOR\n",
        "    self.y = [\n",
        "        [0, 0, 0],\n",
        "        [0, 1, 1],\n",
        "        [0, 1, 1],\n",
        "        [1, 1, 0]\n",
        "    ]\n",
        "\n",
        "  def __len__(self):\n",
        "    # return the number of training examples\n",
        "    return len(self.x)\n",
        "\n",
        "  def __getitem__(self, idx):\n",
        "    # return the input/output for a given example (by index)\n",
        "    x = self.x[idx]\n",
        "    y = self.y[idx]\n",
        "    return {'x': torch.FloatTensor(x), 'y': torch.FloatTensor(y)}\n",
        "\n",
        "logic_dataset = LogicDataset()\n",
        "print(len(logic_dataset))\n",
        "print(logic_dataset[2])"
      ],
      "metadata": {
        "colab": {
          "base_uri": "https://localhost:8080/"
        },
        "outputId": "6299f3c5-8718-4c5d-ce5d-0759a7e16aec",
        "id": "eHT56dMzm83R"
      },
      "execution_count": null,
      "outputs": [
        {
          "output_type": "stream",
          "name": "stdout",
          "text": [
            "4\n",
            "{'x': tensor([0., 1.]), 'y': tensor([0., 1., 1.])}\n"
          ]
        }
      ]
    },
    {
      "cell_type": "code",
      "source": [
        "from torch.optim import Adam\n",
        "from tqdm import trange  # gives us a nice progress bar\n",
        "\n",
        "epochs = 5000  # the number of times to iterate through the training data\n",
        "\n",
        "dataloader = DataLoader(logic_dataset, batch_size=batch_size, shuffle=True, drop_last=True)\n",
        "\n",
        "model = MLP(2, 2, 3)  # create an instance of our model\n",
        "model = model.to(device)  # send the model to the appropriate device\n",
        "print(model.train())  # set the model to train mode (default) and print it for good measure\n",
        "opt = Adam(model.parameters(), lr=0.003)  # initialize the optimizer with the model parameters\n",
        "loss_fn = nn.MSELoss()  # create an instance of our loss function\n",
        "losses = []  # create an empty list for tracking the loss every epoch\n",
        "\n",
        "for epoch in trange(epochs):  # loop for the number of epochs\n",
        "  for batch in dataloader:  # iterate through the dataset\n",
        "\n",
        "    # get the inputs and target outputs and send them to the device\n",
        "    x = batch['x'].to(device)\n",
        "    y = batch['y'].to(device)\n",
        "\n",
        "    # run the model and get its prediction\n",
        "    y_hat = model(x)\n",
        "\n",
        "    # calculate the loss\n",
        "    loss = loss_fn(y_hat, y)\n",
        "\n",
        "    # clear the previous gradient from the optimizer\n",
        "    opt.zero_grad()\n",
        "    # calculate the gradient based on the loss\n",
        "    loss.backward()\n",
        "    # update the model weights based on the gradient\n",
        "    opt.step()\n",
        "\n",
        "    '''\n",
        "    Store the loss in a list so that we can plot it later.\n",
        "    When doing so however, we need to call `.detach()` in\n",
        "    order to remove the gradient, `.cpu()` to make sure it\n",
        "    is on the CPU, and `.numpy()` to convert it into a numpy\n",
        "    value because matplotlib doesn't work directly on tensors.\n",
        "    '''\n",
        "    losses.append(loss.detach().cpu().numpy())"
      ],
      "metadata": {
        "colab": {
          "base_uri": "https://localhost:8080/"
        },
        "outputId": "85d1becd-6654-4ad3-fe98-e90a85a906ec",
        "id": "MyLjkqAnnx-i"
      },
      "execution_count": null,
      "outputs": [
        {
          "output_type": "stream",
          "name": "stdout",
          "text": [
            "MLP(\n",
            "  (fc): Sequential(\n",
            "    (0): Linear(in_features=2, out_features=2, bias=True)\n",
            "    (1): LeakyReLU(negative_slope=0.01)\n",
            "    (2): Linear(in_features=2, out_features=3, bias=True)\n",
            "    (3): Sigmoid()\n",
            "  )\n",
            ")\n"
          ]
        },
        {
          "output_type": "stream",
          "name": "stderr",
          "text": [
            "100%|██████████| 5000/5000 [00:08<00:00, 597.58it/s]\n"
          ]
        }
      ]
    },
    {
      "cell_type": "code",
      "source": [
        "import matplotlib.pyplot as plt\n",
        "\n",
        "plt.plot(losses)\n",
        "plt.show()"
      ],
      "metadata": {
        "colab": {
          "base_uri": "https://localhost:8080/",
          "height": 430
        },
        "outputId": "cc130098-5d5b-47c9-bb7b-ed6fe718b973",
        "id": "3HlVsLLwoOFs"
      },
      "execution_count": null,
      "outputs": [
        {
          "output_type": "display_data",
          "data": {
            "text/plain": [
              "<Figure size 640x480 with 1 Axes>"
            ],
            "image/png": "[encoded data removed]"
          },
          "metadata": {}
        }
      ]
    },
    {
      "cell_type": "code",
      "source": [
        "model = model.cpu()\n",
        "model.eval()\n",
        "\n",
        "with torch.no_grad():\n",
        "  for example in logic_dataset:\n",
        "    x = example['x']\n",
        "    y = example['y']\n",
        "    y_hat = model(x)\n",
        "    loss = loss_fn(y_hat, y)\n",
        "    print('x:', x, 'y:', y, 'y_hat:', y_hat.round(decimals=2), 'loss:', loss)"
      ],
      "metadata": {
        "colab": {
          "base_uri": "https://localhost:8080/"
        },
        "outputId": "625554b1-9bd0-4804-9d27-592d45fe5bd5",
        "id": "ZXOzLG6noS0T"
      },
      "execution_count": null,
      "outputs": [
        {
          "output_type": "stream",
          "name": "stdout",
          "text": [
            "x: tensor([0., 0.]) y: tensor([0., 0., 0.]) y_hat: tensor([0.0000, 0.0100, 0.1500]) loss: tensor(0.0072)\n",
            "x: tensor([1., 0.]) y: tensor([0., 1., 1.]) y_hat: tensor([0.0800, 0.9600, 0.4300]) loss: tensor(0.1116)\n",
            "x: tensor([0., 1.]) y: tensor([0., 1., 1.]) y_hat: tensor([0.0000, 0.9900, 0.9600]) loss: tensor(0.0006)\n",
            "x: tensor([1., 1.]) y: tensor([1., 1., 0.]) y_hat: tensor([0.9100, 0.9900, 0.4900]) loss: tensor(0.0834)\n"
          ]
        }
      ]
    }
  ]
}