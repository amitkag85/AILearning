{
  "nbformat": 4,
  "nbformat_minor": 0,
  "metadata": {
    "colab": {
      "provenance": [],
      "include_colab_link": true
    },
    "kernelspec": {
      "name": "python3",
      "display_name": "Python 3"
    },
    "language_info": {
      "name": "python"
    }
  },
  "cells": [
    {
      "cell_type": "markdown",
      "metadata": {
        "id": "view-in-github",
        "colab_type": "text"
      },
      "source": [
        "<a href=\"https://colab.research.google.com/github/amitkag85/AILearning/blob/master/DIY_Tool_Use.ipynb\" target=\"_parent\"><img src=\"https://colab.research.google.com/assets/colab-badge.svg\" alt=\"Open In Colab\"/></a>"
      ]
    },
    {
      "cell_type": "code",
      "source": [
        "import inspect\n",
        "import json\n",
        "from typing import Any, Callable, Dict, List"
      ],
      "metadata": {
        "id": "NsGFjGY_V_Kq"
      },
      "execution_count": null,
      "outputs": []
    },
    {
      "cell_type": "code",
      "source": [
        "def get_schema(item: Callable) -> Dict[str, Dict[str, Any]]:\n",
        "    \"\"\"Converts a function into a dict describing what it does.\"\"\"\n",
        "    schema = {\n",
        "        \"name\": item.__name__,\n",
        "        \"description\": str(inspect.getdoc(item)),\n",
        "        \"signature\": str(inspect.signature(item)),\n",
        "        \"output\": str(inspect.signature(item).return_annotation),\n",
        "    }\n",
        "    return {item.__name__: schema}"
      ],
      "metadata": {
        "id": "vl44cqnY5edk"
      },
      "execution_count": null,
      "outputs": []
    },
    {
      "cell_type": "code",
      "source": [
        "def multiplyer(a: int, b: int) -> int:\n",
        "    \"\"\"\n",
        "    Multiplies two numbers together.\n",
        "\n",
        "    :param a: The first number to multiply.\n",
        "    :type a: int\n",
        "\n",
        "    :param b: The second number to multiply.\n",
        "    :type b: int\n",
        "\n",
        "    :return: The product of the two numbers.\n",
        "    \"\"\"\n",
        "    return a * b\n",
        "\n",
        "# print(multiplyer.__name__)\n",
        "# print(inspect.getdoc(multiplyer))\n",
        "# print(inspect.signature(multiplyer))\n",
        "# print(inspect.signature(multiplyer).return_annotation)\n",
        "\n",
        "print(json.dumps(get_schema(multiplyer), indent=4))"
      ],
      "metadata": {
        "id": "YsVIAyNr4TlK",
        "colab": {
          "base_uri": "https://localhost:8080/"
        },
        "outputId": "213a461b-4563-4016-b509-2f31eae19a79"
      },
      "execution_count": null,
      "outputs": [
        {
          "output_type": "stream",
          "name": "stdout",
          "text": [
            "{\n",
            "    \"multiplyer\": {\n",
            "        \"name\": \"multiplyer\",\n",
            "        \"description\": \"Multiplies two numbers together.\\n\\n:param a: The first number to multiply.\\n:type a: int\\n\\n:param b: The second number to multiply.\\n:type b: int\\n\\n:return: The product of the two numbers.\",\n",
            "        \"signature\": \"(a: int, b: int) -> int\",\n",
            "        \"output\": \"<class 'int'>\"\n",
            "    }\n",
            "}\n"
          ]
        }
      ]
    },
    {
      "cell_type": "code",
      "source": [
        "a = {\"a\": 1}\n",
        "b = {\"b\": 2}\n",
        "\n",
        "a | b"
      ],
      "metadata": {
        "id": "xxvTQVkZ6i7F"
      },
      "execution_count": null,
      "outputs": []
    },
    {
      "cell_type": "markdown",
      "source": [
        "# Prompting for Tool Use\n",
        "\n",
        "This class is a wrapper around a few-shot prompt for tool use. It is passed a prompt and a list of python funtions. The functions are then converted to JSON descriptions via `get_schema` and passed into the prompt template along with the user input."
      ],
      "metadata": {
        "id": "RBFq03RoYmTI"
      }
    },
    {
      "cell_type": "code",
      "source": [
        "class MyMethodCaller:\n",
        "    \"\"\"Wrapper for constructing the function calling prompt.\"\"\"\n",
        "    def __init__(self):\n",
        "        pass\n",
        "\n",
        "    def get_schema(self, item: Callable) -> Dict[str, Dict[str, Any]]:\n",
        "        \"\"\"Converts a function into a dict describing what it does.\"\"\"\n",
        "        schema = {\n",
        "            \"name\": item.__name__,\n",
        "            \"description\": str(inspect.getdoc(item)),\n",
        "            \"signature\": str(inspect.signature(item)),\n",
        "            \"output\": str(inspect.signature(item).return_annotation),\n",
        "        }\n",
        "        return {item.__name__: schema}\n",
        "\n",
        "    def get_schemas(self, functions: List[Callable]) -> Dict[str, Dict[str, Any]]:\n",
        "        \"\"\"Converts a list of functions into a dict of descriptions for what they do.\"\"\"\n",
        "        out = {}\n",
        "        for f in functions:\n",
        "            out = out | self.get_schema(f)\n",
        "        return out\n",
        "\n",
        "    def run(self, query: str, functions: List[Callable]):\n",
        "        # convert the provided functions into their JSON descriptions\n",
        "        schema = self.get_schemas(functions)\n",
        "        # create a dict of each function name to its function for later\n",
        "        function_dict = {f.__name__: f for f in functions}\n",
        "\n",
        "        # construct the prompt as a one-shot example that details the schema and how to interpret it\n",
        "        prompt = f\"\"\"\n",
        "You are a helpful assistant designed to output JSON.\n",
        "You are bad at math, but good at using a variety of functions..\n",
        "Given the following function schema\n",
        "<< {schema} >>\n",
        "and query\n",
        "<< {query} >>\n",
        "extract the parameters values from the query, in a valid JSON format.\n",
        "Example:\n",
        "Input:\n",
        "query: \"How is the weather in Hawaii and London right now in International units?\"\n",
        "schema:\n",
        "{{\n",
        "    \"get_weather\": {{\n",
        "        \"name\": \"get_weather\",\n",
        "        \"description\": \"Useful to get the weather in a specific location\",\n",
        "        \"signature\": \"(location: str, degree: str) -> str\",\n",
        "        \"output\": \"<class 'str'>\",\n",
        "    }}\n",
        "}}\n",
        "\n",
        "Result: [{{\n",
        "    \"function\": \"get_weather\",\n",
        "    \"inputs\": {{\n",
        "        \"location\": \"Hawaii\",\n",
        "        \"degree\": \"Celsius\",\n",
        "    }}\n",
        "}},\n",
        "{{\n",
        "    \"function\": \"get_weather\",\n",
        "    \"inputs\": {{\n",
        "        \"location\": \"London\",\n",
        "        \"degree\": \"Celsius\",\n",
        "    }}\n",
        "}}]\n",
        "\n",
        "output only the JSON. if there are no functions to call, output\n",
        "an empty list.\n",
        "\n",
        "Input:\n",
        "query: {query}\n",
        "schema: {schema}\n",
        "Result:\n",
        "        \"\"\"\n",
        "\n",
        "        return prompt\n"
      ],
      "metadata": {
        "id": "K6XJxTKdWXVO"
      },
      "execution_count": null,
      "outputs": []
    },
    {
      "cell_type": "markdown",
      "source": [
        "Here are some functions that we can pass to the function caller. They are regular python functions, but should contain:\n",
        "\n",
        "* type annotations\n",
        "* docstrings including descriptions of all arguments and their types"
      ],
      "metadata": {
        "id": "R0L7WIbHZHrY"
      }
    },
    {
      "cell_type": "code",
      "source": [
        "# Function to be called described using the Python docstring format\n",
        "def add_two_numbers(first_number: int, second_number: int) -> int:\n",
        "    \"\"\"\n",
        "    Adds two numbers together.\n",
        "\n",
        "    :param first_number: The first number to add.\n",
        "    :type first_number: int\n",
        "\n",
        "    :param second_number: The second number to add.\n",
        "    :type second_number: int\n",
        "\n",
        "    :return: The sum of the two numbers.\n",
        "    \"\"\"\n",
        "    return first_number + second_number\n",
        "\n",
        "\n",
        "def multiply_two_numbers(first_number: int, second_number: int) -> int:\n",
        "    \"\"\"\n",
        "    Multiplies two numbers together.\n",
        "\n",
        "    :param first_number: The first number to multiply.\n",
        "    :type first_number: int\n",
        "\n",
        "    :param second_number: The second number to multiply.\n",
        "    :type second_number: int\n",
        "\n",
        "    :return: The product of the two numbers.\n",
        "    \"\"\"\n",
        "    return first_number * second_number\n",
        "\n",
        "\n",
        "def say_hello(name: str) -> str:\n",
        "    \"\"\"\n",
        "    Creates a greeting.\n",
        "\n",
        "    :param name: The name of the person.\n",
        "    :type name: str\n",
        "\n",
        "    :return: The formatted greeting.\n",
        "    \"\"\"\n",
        "    return f'Hello {name}! How are you today?'"
      ],
      "metadata": {
        "id": "ko0K8XteWfyU"
      },
      "execution_count": null,
      "outputs": []
    },
    {
      "cell_type": "code",
      "source": [
        "add_two_numbers(**{'first_number':1, 'second_number':2})"
      ],
      "metadata": {
        "id": "5MRBbe6HXF9z"
      },
      "execution_count": null,
      "outputs": []
    },
    {
      "cell_type": "markdown",
      "source": [
        "Instantiate our class and define a list of available functions."
      ],
      "metadata": {
        "id": "AhQHXNHQZXyj"
      }
    },
    {
      "cell_type": "code",
      "source": [
        "fun = MyMethodCaller()\n",
        "functions = [add_two_numbers, say_hello, multiply_two_numbers]"
      ],
      "metadata": {
        "id": "IQ9E3e75WkQn"
      },
      "execution_count": null,
      "outputs": []
    },
    {
      "cell_type": "markdown",
      "source": [
        "This function will take a list of function call JSON objects and collect the results."
      ],
      "metadata": {
        "id": "pemNydmeZsPu"
      }
    },
    {
      "cell_type": "code",
      "source": [
        "def collect_results(function_inputs):\n",
        "    function_dict = {f.__name__: f for f in functions}\n",
        "    out = []\n",
        "    for x in function_inputs:\n",
        "        try:\n",
        "            f = function_dict.get(x['function'])\n",
        "            out.append(f(**x['inputs']))\n",
        "        except KeyError as e:\n",
        "            print(e)\n",
        "            print(f)\n",
        "            print(x)\n",
        "        except TypeError as e:\n",
        "            print(e)\n",
        "            print(f)\n",
        "            print(x)\n",
        "\n",
        "    return out"
      ],
      "metadata": {
        "id": "EuitttHsXg_n"
      },
      "execution_count": null,
      "outputs": []
    },
    {
      "cell_type": "code",
      "source": [
        "result = fun.run(\"Add 2 and five. Also what is 1 + 2?\", functions)\n",
        "# result = fun.run(\"1 + 2 * 3\", functions)\n",
        "print(result)"
      ],
      "metadata": {
        "id": "o3sJYXhuXAoT",
        "colab": {
          "base_uri": "https://localhost:8080/"
        },
        "outputId": "01e49fa2-f3a8-495d-91b8-9c3d74beeb7c"
      },
      "execution_count": null,
      "outputs": [
        {
          "output_type": "stream",
          "name": "stdout",
          "text": [
            "\n",
            "You are a helpful assistant designed to output JSON.\n",
            "You are bad at math, but good at using a variety of functions..\n",
            "Given the following function schema\n",
            "<< {'add_two_numbers': {'name': 'add_two_numbers', 'description': 'Adds two numbers together.\\n\\n:param first_number: The first number to add.\\n:type first_number: int\\n\\n:param second_number: The second number to add.\\n:type second_number: int\\n\\n:return: The sum of the two numbers.', 'signature': '(first_number: int, second_number: int) -> int', 'output': \"<class 'int'>\"}, 'say_hello': {'name': 'say_hello', 'description': 'Creates a greeting.\\n\\n:param name: The name of the person.\\n:type name: str\\n\\n:return: The formatted greeting.', 'signature': '(name: str) -> str', 'output': \"<class 'str'>\"}, 'multiply_two_numbers': {'name': 'multiply_two_numbers', 'description': 'Multiplies two numbers together.\\n\\n:param first_number: The first number to multiply.\\n:type first_number: int\\n\\n:param second_number: The second number to multiply.\\n:type second_number: int\\n\\n:return: The product of the two numbers.', 'signature': '(first_number: int, second_number: int) -> int', 'output': \"<class 'int'>\"}} >>\n",
            "and query\n",
            "<< Add 2 and five. Also what is 1 + 2? >>\n",
            "extract the parameters values from the query, in a valid JSON format.\n",
            "Example:\n",
            "Input:\n",
            "query: \"How is the weather in Hawaii and London right now in International units?\"\n",
            "schema:\n",
            "{\n",
            "    \"get_weather\": {\n",
            "        \"name\": \"get_weather\",\n",
            "        \"description\": \"Useful to get the weather in a specific location\",\n",
            "        \"signature\": \"(location: str, degree: str) -> str\",\n",
            "        \"output\": \"<class 'str'>\",\n",
            "    }\n",
            "}\n",
            "\n",
            "Result: [{\n",
            "    \"function\": \"get_weather\",\n",
            "    \"inputs\": {\n",
            "        \"location\": \"Hawaii\",\n",
            "        \"degree\": \"Celsius\",\n",
            "    }\n",
            "},\n",
            "{\n",
            "    \"function\": \"get_weather\",\n",
            "    \"inputs\": {\n",
            "        \"location\": \"London\",\n",
            "        \"degree\": \"Celsius\",\n",
            "    }\n",
            "}]\n",
            "\n",
            "output only the JSON. if there are no functions to call, output\n",
            "an empty list.\n",
            "\n",
            "Input:\n",
            "query: Add 2 and five. Also what is 1 + 2?\n",
            "schema: {'add_two_numbers': {'name': 'add_two_numbers', 'description': 'Adds two numbers together.\\n\\n:param first_number: The first number to add.\\n:type first_number: int\\n\\n:param second_number: The second number to add.\\n:type second_number: int\\n\\n:return: The sum of the two numbers.', 'signature': '(first_number: int, second_number: int) -> int', 'output': \"<class 'int'>\"}, 'say_hello': {'name': 'say_hello', 'description': 'Creates a greeting.\\n\\n:param name: The name of the person.\\n:type name: str\\n\\n:return: The formatted greeting.', 'signature': '(name: str) -> str', 'output': \"<class 'str'>\"}, 'multiply_two_numbers': {'name': 'multiply_two_numbers', 'description': 'Multiplies two numbers together.\\n\\n:param first_number: The first number to multiply.\\n:type first_number: int\\n\\n:param second_number: The second number to multiply.\\n:type second_number: int\\n\\n:return: The product of the two numbers.', 'signature': '(first_number: int, second_number: int) -> int', 'output': \"<class 'int'>\"}}\n",
            "Result:\n",
            "        \n"
          ]
        }
      ]
    },
    {
      "cell_type": "code",
      "source": [
        "result = fun.run(\"My name is Bob, nice to meet you.\", functions)\n",
        "print(result)"
      ],
      "metadata": {
        "id": "65kU_JFBZ76I",
        "colab": {
          "base_uri": "https://localhost:8080/"
        },
        "outputId": "284582b1-1b40-4c73-ee07-535cd68f2a38"
      },
      "execution_count": null,
      "outputs": [
        {
          "output_type": "stream",
          "name": "stdout",
          "text": [
            "\n",
            "You are a helpful assistant designed to output JSON.\n",
            "You are bad at math, but good at using a variety of functions..\n",
            "Given the following function schema\n",
            "<< {'add_two_numbers': {'name': 'add_two_numbers', 'description': 'Adds two numbers together.\\n\\n:param first_number: The first number to add.\\n:type first_number: int\\n\\n:param second_number: The second number to add.\\n:type second_number: int\\n\\n:return: The sum of the two numbers.', 'signature': '(first_number: int, second_number: int) -> int', 'output': \"<class 'int'>\"}, 'say_hello': {'name': 'say_hello', 'description': 'Creates a greeting.\\n\\n:param name: The name of the person.\\n:type name: str\\n\\n:return: The formatted greeting.', 'signature': '(name: str) -> str', 'output': \"<class 'str'>\"}, 'multiply_two_numbers': {'name': 'multiply_two_numbers', 'description': 'Multiplies two numbers together.\\n\\n:param first_number: The first number to multiply.\\n:type first_number: int\\n\\n:param second_number: The second number to multiply.\\n:type second_number: int\\n\\n:return: The product of the two numbers.', 'signature': '(first_number: int, second_number: int) -> int', 'output': \"<class 'int'>\"}} >>\n",
            "and query\n",
            "<< My name is Bob, nice to meet you. >>\n",
            "extract the parameters values from the query, in a valid JSON format.\n",
            "Example:\n",
            "Input:\n",
            "query: \"How is the weather in Hawaii and London right now in International units?\"\n",
            "schema:\n",
            "{\n",
            "    \"get_weather\": {\n",
            "        \"name\": \"get_weather\",\n",
            "        \"description\": \"Useful to get the weather in a specific location\",\n",
            "        \"signature\": \"(location: str, degree: str) -> str\",\n",
            "        \"output\": \"<class 'str'>\",\n",
            "    }\n",
            "}\n",
            "\n",
            "Result: [{\n",
            "    \"function\": \"get_weather\",\n",
            "    \"inputs\": {\n",
            "        \"location\": \"Hawaii\",\n",
            "        \"degree\": \"Celsius\",\n",
            "    }\n",
            "},\n",
            "{\n",
            "    \"function\": \"get_weather\",\n",
            "    \"inputs\": {\n",
            "        \"location\": \"London\",\n",
            "        \"degree\": \"Celsius\",\n",
            "    }\n",
            "}]\n",
            "\n",
            "output only the JSON. if there are no functions to call, output\n",
            "an empty list.\n",
            "\n",
            "Input:\n",
            "query: My name is Bob, nice to meet you.\n",
            "schema: {'add_two_numbers': {'name': 'add_two_numbers', 'description': 'Adds two numbers together.\\n\\n:param first_number: The first number to add.\\n:type first_number: int\\n\\n:param second_number: The second number to add.\\n:type second_number: int\\n\\n:return: The sum of the two numbers.', 'signature': '(first_number: int, second_number: int) -> int', 'output': \"<class 'int'>\"}, 'say_hello': {'name': 'say_hello', 'description': 'Creates a greeting.\\n\\n:param name: The name of the person.\\n:type name: str\\n\\n:return: The formatted greeting.', 'signature': '(name: str) -> str', 'output': \"<class 'str'>\"}, 'multiply_two_numbers': {'name': 'multiply_two_numbers', 'description': 'Multiplies two numbers together.\\n\\n:param first_number: The first number to multiply.\\n:type first_number: int\\n\\n:param second_number: The second number to multiply.\\n:type second_number: int\\n\\n:return: The product of the two numbers.', 'signature': '(first_number: int, second_number: int) -> int', 'output': \"<class 'int'>\"}}\n",
            "Result:\n",
            "        \n"
          ]
        }
      ]
    },
    {
      "cell_type": "code",
      "source": [
        "result = fun.run(\"What's for lunch?\", functions)\n",
        "print(result)"
      ],
      "metadata": {
        "id": "t2uW8EPY_wsV"
      },
      "execution_count": null,
      "outputs": []
    },
    {
      "cell_type": "code",
      "source": [
        "inpt = json.loads('''\n",
        "[\n",
        "{\n",
        "\"function\": \"add_two_numbers\",\n",
        "\"inputs\": {\n",
        "\"first_number\": 2,\n",
        "\"second_number\": 5\n",
        "}\n",
        "},\n",
        "{\n",
        "\"function\": \"add_two_numbers\",\n",
        "\"inputs\": {\n",
        "\"first_number\": 1,\n",
        "\"second_number\": 2\n",
        "}\n",
        "}\n",
        "]''')\n",
        "\n",
        "print(collect_results(inpt))"
      ],
      "metadata": {
        "id": "B2cNbkPAWe1a"
      },
      "execution_count": null,
      "outputs": []
    },
    {
      "cell_type": "code",
      "source": [
        "inpt = json.loads('''\n",
        "[{\"function\": \"say_hello\", \"inputs\": {\"name\": \"Bob\"}}]''')\n",
        "\n",
        "print(collect_results(inpt))"
      ],
      "metadata": {
        "id": "ZmLLjfawXzRV"
      },
      "execution_count": null,
      "outputs": []
    },
    {
      "cell_type": "code",
      "source": [
        "query = \"1 + 2 * 3\"\n",
        "call = \"multiply_two_numbers(2, 3)\"\n",
        "res = 6 # eval(call)\n",
        "prompt = \"\"\"please rewirte the query, replacing the part referenced by `{call}` with {res}.\n",
        "please only provide the rewritten query.\n",
        "\n",
        "query: \"{query}\"\n",
        "\"\"\"\n",
        "print(prompt.format(call=call, res=res, query=query))\n"
      ],
      "metadata": {
        "id": "eB5nqhpXrf3w"
      },
      "execution_count": null,
      "outputs": []
    }
  ]
}